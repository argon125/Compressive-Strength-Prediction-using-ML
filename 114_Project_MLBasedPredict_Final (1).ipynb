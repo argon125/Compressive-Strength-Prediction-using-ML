{
  "nbformat": 4,
  "nbformat_minor": 0,
  "metadata": {
    "colab": {
      "provenance": [],
      "collapsed_sections": []
    },
    "kernelspec": {
      "name": "python3",
      "display_name": "Python 3"
    },
    "language_info": {
      "name": "python"
    }
  },
  "cells": [
    {
      "cell_type": "code",
      "metadata": {
        "id": "UvEtTwoswqO7",
        "colab": {
          "base_uri": "https://localhost:8080/"
        },
        "outputId": "b49d2cef-3803-4a0c-8d40-261579566468"
      },
      "source": [
        "from google.colab import drive\n",
        "drive.mount('/gdrive')"
      ],
      "execution_count": null,
      "outputs": [
        {
          "output_type": "stream",
          "name": "stdout",
          "text": [
            "Mounted at /gdrive\n"
          ]
        }
      ]
    },
    {
      "cell_type": "code",
      "metadata": {
        "id": "Lhn_icnyw5WG"
      },
      "source": [
        "import numpy as np\n",
        "import pandas as pd\n",
        "import matplotlib.pyplot as plt\n",
        "import os"
      ],
      "execution_count": null,
      "outputs": []
    },
    {
      "cell_type": "markdown",
      "metadata": {
        "id": "f9uBufCDw4h1"
      },
      "source": [
        "## Read CSV, Retrieve data"
      ]
    },
    {
      "cell_type": "code",
      "metadata": {
        "id": "UYiPQIsyw5ZF"
      },
      "source": [
        "df = pd.read_excel(\"/gdrive/MyDrive/DhanyaMa'am/MODEL DATA.xlsx\")\n",
        "df.columns = [\"Sno\",\"Mark\",\"Cement\",\"FlyAsh\",\"GGBS\",\"RHA\",\"SilicaFume\",\"Mica\",\"Feldspar\",\"CalcinatedKaolin\",\"Metakolin\",\"GPP\",\"RW\",\"EW\",\"W/B\",\"SuperPlast\",\"Sand\",\"NaOH\",\"NaSil\",\"SC\"]"
      ],
      "execution_count": null,
      "outputs": []
    },
    {
      "cell_type": "code",
      "source": [
        "features_og = df[[\"Cement\",\"FlyAsh\",\"GGBS\",\"RHA\",\"SilicaFume\",\"Mica\",\"Feldspar\",\"CalcinatedKaolin\",\"Metakolin\",\"GPP\",\"RW\",\"EW\",\"W/B\",\"SuperPlast\",\"Sand\",\"NaOH\",\"NaSil\"]]\n",
        "labels = df[\"SC\"]"
      ],
      "metadata": {
        "id": "ius5MQY6yMLX"
      },
      "execution_count": null,
      "outputs": []
    },
    {
      "cell_type": "code",
      "source": [
        "features_og[:5]"
      ],
      "metadata": {
        "colab": {
          "base_uri": "https://localhost:8080/",
          "height": 206
        },
        "id": "BYpd_KjVyMOJ",
        "outputId": "cc80ac54-45f3-4937-a3f2-c9f210750f6c"
      },
      "execution_count": null,
      "outputs": [
        {
          "output_type": "execute_result",
          "data": {
            "text/plain": [
              "   Cement  FlyAsh  GGBS  RHA  SilicaFume  Mica  Feldspar  CalcinatedKaolin  \\\n",
              "0  624.00     0.0   0.0  0.0         0.0     0         0               0.0   \n",
              "1  623.13     0.0   0.0  0.0         0.0     0         0               0.0   \n",
              "2  623.13     0.0   0.0  0.0         0.0     0         0               0.0   \n",
              "3  623.13     0.0   0.0  0.0         0.0     0         0               0.0   \n",
              "4  623.13     0.0   0.0  0.0         0.0     0         0               0.0   \n",
              "\n",
              "   Metakolin  GPP   RW   EW   W/B  SuperPlast    Sand  NaOH  NaSil  \n",
              "0        0.0  0.0  0.0  0.0  0.45         0.2  936.00   0.0    0.0  \n",
              "1        0.0  0.0  0.0  0.0  0.45         0.4  934.69   0.0    0.0  \n",
              "2        0.0  0.0  0.0  0.0  0.45         0.6  934.69   0.0    0.0  \n",
              "3        0.0  0.0  0.0  0.0  0.45         0.8  934.69   0.0    0.0  \n",
              "4        0.0  0.0  0.0  0.0  0.45         1.0  934.69   0.0    0.0  "
            ],
            "text/html": [
              "\n",
              "  <div id=\"df-bbe9f18b-23c5-4b68-ae81-98c91b060954\">\n",
              "    <div class=\"colab-df-container\">\n",
              "      <div>\n",
              "<style scoped>\n",
              "    .dataframe tbody tr th:only-of-type {\n",
              "        vertical-align: middle;\n",
              "    }\n",
              "\n",
              "    .dataframe tbody tr th {\n",
              "        vertical-align: top;\n",
              "    }\n",
              "\n",
              "    .dataframe thead th {\n",
              "        text-align: right;\n",
              "    }\n",
              "</style>\n",
              "<table border=\"1\" class=\"dataframe\">\n",
              "  <thead>\n",
              "    <tr style=\"text-align: right;\">\n",
              "      <th></th>\n",
              "      <th>Cement</th>\n",
              "      <th>FlyAsh</th>\n",
              "      <th>GGBS</th>\n",
              "      <th>RHA</th>\n",
              "      <th>SilicaFume</th>\n",
              "      <th>Mica</th>\n",
              "      <th>Feldspar</th>\n",
              "      <th>CalcinatedKaolin</th>\n",
              "      <th>Metakolin</th>\n",
              "      <th>GPP</th>\n",
              "      <th>RW</th>\n",
              "      <th>EW</th>\n",
              "      <th>W/B</th>\n",
              "      <th>SuperPlast</th>\n",
              "      <th>Sand</th>\n",
              "      <th>NaOH</th>\n",
              "      <th>NaSil</th>\n",
              "    </tr>\n",
              "  </thead>\n",
              "  <tbody>\n",
              "    <tr>\n",
              "      <th>0</th>\n",
              "      <td>624.00</td>\n",
              "      <td>0.0</td>\n",
              "      <td>0.0</td>\n",
              "      <td>0.0</td>\n",
              "      <td>0.0</td>\n",
              "      <td>0</td>\n",
              "      <td>0</td>\n",
              "      <td>0.0</td>\n",
              "      <td>0.0</td>\n",
              "      <td>0.0</td>\n",
              "      <td>0.0</td>\n",
              "      <td>0.0</td>\n",
              "      <td>0.45</td>\n",
              "      <td>0.2</td>\n",
              "      <td>936.00</td>\n",
              "      <td>0.0</td>\n",
              "      <td>0.0</td>\n",
              "    </tr>\n",
              "    <tr>\n",
              "      <th>1</th>\n",
              "      <td>623.13</td>\n",
              "      <td>0.0</td>\n",
              "      <td>0.0</td>\n",
              "      <td>0.0</td>\n",
              "      <td>0.0</td>\n",
              "      <td>0</td>\n",
              "      <td>0</td>\n",
              "      <td>0.0</td>\n",
              "      <td>0.0</td>\n",
              "      <td>0.0</td>\n",
              "      <td>0.0</td>\n",
              "      <td>0.0</td>\n",
              "      <td>0.45</td>\n",
              "      <td>0.4</td>\n",
              "      <td>934.69</td>\n",
              "      <td>0.0</td>\n",
              "      <td>0.0</td>\n",
              "    </tr>\n",
              "    <tr>\n",
              "      <th>2</th>\n",
              "      <td>623.13</td>\n",
              "      <td>0.0</td>\n",
              "      <td>0.0</td>\n",
              "      <td>0.0</td>\n",
              "      <td>0.0</td>\n",
              "      <td>0</td>\n",
              "      <td>0</td>\n",
              "      <td>0.0</td>\n",
              "      <td>0.0</td>\n",
              "      <td>0.0</td>\n",
              "      <td>0.0</td>\n",
              "      <td>0.0</td>\n",
              "      <td>0.45</td>\n",
              "      <td>0.6</td>\n",
              "      <td>934.69</td>\n",
              "      <td>0.0</td>\n",
              "      <td>0.0</td>\n",
              "    </tr>\n",
              "    <tr>\n",
              "      <th>3</th>\n",
              "      <td>623.13</td>\n",
              "      <td>0.0</td>\n",
              "      <td>0.0</td>\n",
              "      <td>0.0</td>\n",
              "      <td>0.0</td>\n",
              "      <td>0</td>\n",
              "      <td>0</td>\n",
              "      <td>0.0</td>\n",
              "      <td>0.0</td>\n",
              "      <td>0.0</td>\n",
              "      <td>0.0</td>\n",
              "      <td>0.0</td>\n",
              "      <td>0.45</td>\n",
              "      <td>0.8</td>\n",
              "      <td>934.69</td>\n",
              "      <td>0.0</td>\n",
              "      <td>0.0</td>\n",
              "    </tr>\n",
              "    <tr>\n",
              "      <th>4</th>\n",
              "      <td>623.13</td>\n",
              "      <td>0.0</td>\n",
              "      <td>0.0</td>\n",
              "      <td>0.0</td>\n",
              "      <td>0.0</td>\n",
              "      <td>0</td>\n",
              "      <td>0</td>\n",
              "      <td>0.0</td>\n",
              "      <td>0.0</td>\n",
              "      <td>0.0</td>\n",
              "      <td>0.0</td>\n",
              "      <td>0.0</td>\n",
              "      <td>0.45</td>\n",
              "      <td>1.0</td>\n",
              "      <td>934.69</td>\n",
              "      <td>0.0</td>\n",
              "      <td>0.0</td>\n",
              "    </tr>\n",
              "  </tbody>\n",
              "</table>\n",
              "</div>\n",
              "      <button class=\"colab-df-convert\" onclick=\"convertToInteractive('df-bbe9f18b-23c5-4b68-ae81-98c91b060954')\"\n",
              "              title=\"Convert this dataframe to an interactive table.\"\n",
              "              style=\"display:none;\">\n",
              "        \n",
              "  <svg xmlns=\"http://www.w3.org/2000/svg\" height=\"24px\"viewBox=\"0 0 24 24\"\n",
              "       width=\"24px\">\n",
              "    <path d=\"M0 0h24v24H0V0z\" fill=\"none\"/>\n",
              "    <path d=\"M18.56 5.44l.94 2.06.94-2.06 2.06-.94-2.06-.94-.94-2.06-.94 2.06-2.06.94zm-11 1L8.5 8.5l.94-2.06 2.06-.94-2.06-.94L8.5 2.5l-.94 2.06-2.06.94zm10 10l.94 2.06.94-2.06 2.06-.94-2.06-.94-.94-2.06-.94 2.06-2.06.94z\"/><path d=\"M17.41 7.96l-1.37-1.37c-.4-.4-.92-.59-1.43-.59-.52 0-1.04.2-1.43.59L10.3 9.45l-7.72 7.72c-.78.78-.78 2.05 0 2.83L4 21.41c.39.39.9.59 1.41.59.51 0 1.02-.2 1.41-.59l7.78-7.78 2.81-2.81c.8-.78.8-2.07 0-2.86zM5.41 20L4 18.59l7.72-7.72 1.47 1.35L5.41 20z\"/>\n",
              "  </svg>\n",
              "      </button>\n",
              "      \n",
              "  <style>\n",
              "    .colab-df-container {\n",
              "      display:flex;\n",
              "      flex-wrap:wrap;\n",
              "      gap: 12px;\n",
              "    }\n",
              "\n",
              "    .colab-df-convert {\n",
              "      background-color: #E8F0FE;\n",
              "      border: none;\n",
              "      border-radius: 50%;\n",
              "      cursor: pointer;\n",
              "      display: none;\n",
              "      fill: #1967D2;\n",
              "      height: 32px;\n",
              "      padding: 0 0 0 0;\n",
              "      width: 32px;\n",
              "    }\n",
              "\n",
              "    .colab-df-convert:hover {\n",
              "      background-color: #E2EBFA;\n",
              "      box-shadow: 0px 1px 2px rgba(60, 64, 67, 0.3), 0px 1px 3px 1px rgba(60, 64, 67, 0.15);\n",
              "      fill: #174EA6;\n",
              "    }\n",
              "\n",
              "    [theme=dark] .colab-df-convert {\n",
              "      background-color: #3B4455;\n",
              "      fill: #D2E3FC;\n",
              "    }\n",
              "\n",
              "    [theme=dark] .colab-df-convert:hover {\n",
              "      background-color: #434B5C;\n",
              "      box-shadow: 0px 1px 3px 1px rgba(0, 0, 0, 0.15);\n",
              "      filter: drop-shadow(0px 1px 2px rgba(0, 0, 0, 0.3));\n",
              "      fill: #FFFFFF;\n",
              "    }\n",
              "  </style>\n",
              "\n",
              "      <script>\n",
              "        const buttonEl =\n",
              "          document.querySelector('#df-bbe9f18b-23c5-4b68-ae81-98c91b060954 button.colab-df-convert');\n",
              "        buttonEl.style.display =\n",
              "          google.colab.kernel.accessAllowed ? 'block' : 'none';\n",
              "\n",
              "        async function convertToInteractive(key) {\n",
              "          const element = document.querySelector('#df-bbe9f18b-23c5-4b68-ae81-98c91b060954');\n",
              "          const dataTable =\n",
              "            await google.colab.kernel.invokeFunction('convertToInteractive',\n",
              "                                                     [key], {});\n",
              "          if (!dataTable) return;\n",
              "\n",
              "          const docLinkHtml = 'Like what you see? Visit the ' +\n",
              "            '<a target=\"_blank\" href=https://colab.research.google.com/notebooks/data_table.ipynb>data table notebook</a>'\n",
              "            + ' to learn more about interactive tables.';\n",
              "          element.innerHTML = '';\n",
              "          dataTable['output_type'] = 'display_data';\n",
              "          await google.colab.output.renderOutput(dataTable, element);\n",
              "          const docLink = document.createElement('div');\n",
              "          docLink.innerHTML = docLinkHtml;\n",
              "          element.appendChild(docLink);\n",
              "        }\n",
              "      </script>\n",
              "    </div>\n",
              "  </div>\n",
              "  "
            ]
          },
          "metadata": {},
          "execution_count": 5
        }
      ]
    },
    {
      "cell_type": "code",
      "source": [
        "labels[:5]"
      ],
      "metadata": {
        "colab": {
          "base_uri": "https://localhost:8080/"
        },
        "id": "XWjsV060yPqU",
        "outputId": "eb11ef99-e8ad-4b86-d47c-52e1584afcf6"
      },
      "execution_count": null,
      "outputs": [
        {
          "output_type": "execute_result",
          "data": {
            "text/plain": [
              "0    0.000118\n",
              "1    0.008908\n",
              "2    0.010736\n",
              "3    0.000371\n",
              "4    0.015622\n",
              "Name: SC, dtype: float64"
            ]
          },
          "metadata": {},
          "execution_count": 6
        }
      ]
    },
    {
      "cell_type": "code",
      "metadata": {
        "id": "4DcGJp5DxAFB"
      },
      "source": [
        "features_og = np.array(features_og)\n",
        "labels = np.array(labels)\n",
        "features_norma = np.zeros(np.shape(features_og))\n",
        "for i in range(np.shape(features_og)[1]):\n",
        "    features_norma[:,i] = features_og[:,i]/np.linalg.norm(features_og[:,i])"
      ],
      "execution_count": null,
      "outputs": []
    },
    {
      "cell_type": "code",
      "source": [
        "features_og[:5]"
      ],
      "metadata": {
        "colab": {
          "base_uri": "https://localhost:8080/"
        },
        "id": "dfvO4SPlyVKi",
        "outputId": "a860fb92-9ceb-4125-ea87-ed11434d7903"
      },
      "execution_count": null,
      "outputs": [
        {
          "output_type": "execute_result",
          "data": {
            "text/plain": [
              "array([[6.2400e+02, 0.0000e+00, 0.0000e+00, 0.0000e+00, 0.0000e+00,\n",
              "        0.0000e+00, 0.0000e+00, 0.0000e+00, 0.0000e+00, 0.0000e+00,\n",
              "        0.0000e+00, 0.0000e+00, 4.5000e-01, 2.0000e-01, 9.3600e+02,\n",
              "        0.0000e+00, 0.0000e+00],\n",
              "       [6.2313e+02, 0.0000e+00, 0.0000e+00, 0.0000e+00, 0.0000e+00,\n",
              "        0.0000e+00, 0.0000e+00, 0.0000e+00, 0.0000e+00, 0.0000e+00,\n",
              "        0.0000e+00, 0.0000e+00, 4.5000e-01, 4.0000e-01, 9.3469e+02,\n",
              "        0.0000e+00, 0.0000e+00],\n",
              "       [6.2313e+02, 0.0000e+00, 0.0000e+00, 0.0000e+00, 0.0000e+00,\n",
              "        0.0000e+00, 0.0000e+00, 0.0000e+00, 0.0000e+00, 0.0000e+00,\n",
              "        0.0000e+00, 0.0000e+00, 4.5000e-01, 6.0000e-01, 9.3469e+02,\n",
              "        0.0000e+00, 0.0000e+00],\n",
              "       [6.2313e+02, 0.0000e+00, 0.0000e+00, 0.0000e+00, 0.0000e+00,\n",
              "        0.0000e+00, 0.0000e+00, 0.0000e+00, 0.0000e+00, 0.0000e+00,\n",
              "        0.0000e+00, 0.0000e+00, 4.5000e-01, 8.0000e-01, 9.3469e+02,\n",
              "        0.0000e+00, 0.0000e+00],\n",
              "       [6.2313e+02, 0.0000e+00, 0.0000e+00, 0.0000e+00, 0.0000e+00,\n",
              "        0.0000e+00, 0.0000e+00, 0.0000e+00, 0.0000e+00, 0.0000e+00,\n",
              "        0.0000e+00, 0.0000e+00, 4.5000e-01, 1.0000e+00, 9.3469e+02,\n",
              "        0.0000e+00, 0.0000e+00]])"
            ]
          },
          "metadata": {},
          "execution_count": 8
        }
      ]
    },
    {
      "cell_type": "code",
      "source": [
        "features_norma[:5]"
      ],
      "metadata": {
        "colab": {
          "base_uri": "https://localhost:8080/"
        },
        "id": "PKeULN9zvsfV",
        "outputId": "bb0df121-07e3-460f-f1e1-d43de5d562cf"
      },
      "execution_count": null,
      "outputs": [
        {
          "output_type": "execute_result",
          "data": {
            "text/plain": [
              "array([[0.11122122, 0.        , 0.        , 0.        , 0.        ,\n",
              "        0.        , 0.        , 0.        , 0.        , 0.        ,\n",
              "        0.        , 0.        , 0.10009223, 0.01913248, 0.07622848,\n",
              "        0.        , 0.        ],\n",
              "       [0.11106615, 0.        , 0.        , 0.        , 0.        ,\n",
              "        0.        , 0.        , 0.        , 0.        , 0.        ,\n",
              "        0.        , 0.        , 0.10009223, 0.03826495, 0.0761218 ,\n",
              "        0.        , 0.        ],\n",
              "       [0.11106615, 0.        , 0.        , 0.        , 0.        ,\n",
              "        0.        , 0.        , 0.        , 0.        , 0.        ,\n",
              "        0.        , 0.        , 0.10009223, 0.05739743, 0.0761218 ,\n",
              "        0.        , 0.        ],\n",
              "       [0.11106615, 0.        , 0.        , 0.        , 0.        ,\n",
              "        0.        , 0.        , 0.        , 0.        , 0.        ,\n",
              "        0.        , 0.        , 0.10009223, 0.07652991, 0.0761218 ,\n",
              "        0.        , 0.        ],\n",
              "       [0.11106615, 0.        , 0.        , 0.        , 0.        ,\n",
              "        0.        , 0.        , 0.        , 0.        , 0.        ,\n",
              "        0.        , 0.        , 0.10009223, 0.09566239, 0.0761218 ,\n",
              "        0.        , 0.        ]])"
            ]
          },
          "metadata": {},
          "execution_count": 9
        }
      ]
    },
    {
      "cell_type": "code",
      "source": [
        "labels[:5]"
      ],
      "metadata": {
        "colab": {
          "base_uri": "https://localhost:8080/"
        },
        "id": "Of1bbO-vkXcq",
        "outputId": "167b6551-4f47-4e05-e0c9-10fd84addbbe"
      },
      "execution_count": null,
      "outputs": [
        {
          "output_type": "execute_result",
          "data": {
            "text/plain": [
              "array([0.00011826, 0.00890788, 0.01073617, 0.00037064, 0.01562244])"
            ]
          },
          "metadata": {},
          "execution_count": 10
        }
      ]
    },
    {
      "cell_type": "code",
      "source": [
        "from sklearn.model_selection import train_test_split"
      ],
      "metadata": {
        "id": "P-ZIDg3THUhl"
      },
      "execution_count": null,
      "outputs": []
    },
    {
      "cell_type": "code",
      "source": [
        "x_train,x_test,y_train,y_test = train_test_split(features_norma,labels,test_size=0.1,random_state = 42)\n",
        "#num_samp = 31\n",
        "#x_train,x_test,y_train,y_test = features[num_samp:],features[:num_samp],labels[num_samp:],labels[:num_samp]"
      ],
      "metadata": {
        "id": "nCsia2_UyZPL"
      },
      "execution_count": null,
      "outputs": []
    },
    {
      "cell_type": "code",
      "source": [
        "np.shape(x_train),np.shape(x_test),np.shape(y_train),np.shape(y_test)"
      ],
      "metadata": {
        "colab": {
          "base_uri": "https://localhost:8080/"
        },
        "id": "LZdanh6QJS3_",
        "outputId": "af2a9b30-53db-4844-80b2-4276e5a66b9f"
      },
      "execution_count": null,
      "outputs": [
        {
          "output_type": "execute_result",
          "data": {
            "text/plain": [
              "((105, 17), (12, 17), (105,), (12,))"
            ]
          },
          "metadata": {},
          "execution_count": 13
        }
      ]
    },
    {
      "cell_type": "markdown",
      "metadata": {
        "id": "R2ApDmIKyOuk"
      },
      "source": [
        "## ML Models\n",
        "\n",
        "##### 1) SVR\n",
        "##### 2) Random Forest\n",
        "##### 3) Linear Regressor\n",
        "##### 4) Lasso"
      ]
    },
    {
      "cell_type": "markdown",
      "metadata": {
        "id": "9UBgxmqsyj5O"
      },
      "source": [
        "## 1) Support Vector Regressor"
      ]
    },
    {
      "cell_type": "code",
      "source": [
        "from sklearn.svm import SVR\n",
        "sv_regressor = SVR(kernel='rbf',gamma='auto')\n",
        "sv_regressor.fit(x_train, y_train)"
      ],
      "metadata": {
        "colab": {
          "base_uri": "https://localhost:8080/"
        },
        "id": "WplYweKtw6Ls",
        "outputId": "f26d1354-2fa5-49db-db85-a6bee8c0a266"
      },
      "execution_count": null,
      "outputs": [
        {
          "output_type": "execute_result",
          "data": {
            "text/plain": [
              "SVR(gamma='auto')"
            ]
          },
          "metadata": {},
          "execution_count": 14
        }
      ]
    },
    {
      "cell_type": "code",
      "metadata": {
        "colab": {
          "base_uri": "https://localhost:8080/"
        },
        "id": "M3pSWNuAxCRL",
        "outputId": "2e11d9be-a239-46a0-9a77-f975df001afb"
      },
      "source": [
        "sv_regressor.score(x_test,y_test)"
      ],
      "execution_count": null,
      "outputs": [
        {
          "output_type": "execute_result",
          "data": {
            "text/plain": [
              "-0.0854240994638149"
            ]
          },
          "metadata": {},
          "execution_count": 15
        }
      ]
    },
    {
      "cell_type": "code",
      "metadata": {
        "colab": {
          "base_uri": "https://localhost:8080/"
        },
        "id": "74NmH5xbxDYk",
        "outputId": "3ca579f7-e78c-4ff4-d44c-2db648435016"
      },
      "source": [
        "svr_pred = sv_regressor.predict(x_test)\n",
        "print(svr_pred)"
      ],
      "execution_count": null,
      "outputs": [
        {
          "output_type": "stream",
          "name": "stdout",
          "text": [
            "[0.02979853 0.02979853 0.02979853 0.02979853 0.02979853 0.02979853\n",
            " 0.02979853 0.02979853 0.02979853 0.02979853 0.02979853 0.02979853]\n"
          ]
        }
      ]
    },
    {
      "cell_type": "code",
      "metadata": {
        "colab": {
          "base_uri": "https://localhost:8080/"
        },
        "id": "4ttTCevPxDaX",
        "outputId": "bd3efe05-f6bf-4171-ff72-30114de55ae4"
      },
      "source": [
        "from sklearn.metrics import r2_score,mean_absolute_error\n",
        "r2_score(y_test,svr_pred)"
      ],
      "execution_count": null,
      "outputs": [
        {
          "output_type": "execute_result",
          "data": {
            "text/plain": [
              "-0.0854240994638149"
            ]
          },
          "metadata": {},
          "execution_count": 17
        }
      ]
    },
    {
      "cell_type": "code",
      "metadata": {
        "colab": {
          "base_uri": "https://localhost:8080/"
        },
        "id": "43UMnZn-xDdI",
        "outputId": "ed1e3ef5-8586-487f-9d98-5f1478bdb7a8"
      },
      "source": [
        "from sklearn.metrics import mean_absolute_error\n",
        "mean_absolute_error(y_test,svr_pred)"
      ],
      "execution_count": null,
      "outputs": [
        {
          "output_type": "execute_result",
          "data": {
            "text/plain": [
              "0.012435514247680107"
            ]
          },
          "metadata": {},
          "execution_count": 18
        }
      ]
    },
    {
      "cell_type": "code",
      "metadata": {
        "colab": {
          "base_uri": "https://localhost:8080/",
          "height": 313
        },
        "id": "FSegg1UrxGpr",
        "outputId": "97c4b96b-4f77-4d2b-d29f-dbaa95320c49"
      },
      "source": [
        "plt.plot(y_test,svr_pred,'o')\n",
        "m,b = np.polyfit(y_test,svr_pred,1)\n",
        "plt.plot(y_test,m*y_test+b)\n",
        "plt.xlabel(\"Predicted\")\n",
        "plt.ylabel(\"True\")\n",
        "plt.title(\"Support Vector Regression\")"
      ],
      "execution_count": null,
      "outputs": [
        {
          "output_type": "execute_result",
          "data": {
            "text/plain": [
              "Text(0.5, 1.0, 'Support Vector Regression')"
            ]
          },
          "metadata": {},
          "execution_count": 19
        },
        {
          "output_type": "display_data",
          "data": {
            "text/plain": [
              "<Figure size 432x288 with 1 Axes>"
            ],
            "image/png": "[encoded data removed]"
          },
          "metadata": {
            "needs_background": "light"
          }
        }
      ]
    },
    {
      "cell_type": "markdown",
      "metadata": {
        "id": "av25coJMxHvX"
      },
      "source": [
        "## 2) Random Forest Regressor"
      ]
    },
    {
      "cell_type": "code",
      "metadata": {
        "colab": {
          "base_uri": "https://localhost:8080/"
        },
        "id": "FUwp7EKCxHEl",
        "outputId": "f0f7c4dd-4bae-4e22-b463-bedb017dcede"
      },
      "source": [
        "from sklearn.ensemble import RandomForestRegressor\n",
        "rf_regressor = RandomForestRegressor()\n",
        "rf_regressor.fit(x_train,y_train)"
      ],
      "execution_count": null,
      "outputs": [
        {
          "output_type": "execute_result",
          "data": {
            "text/plain": [
              "RandomForestRegressor()"
            ]
          },
          "metadata": {},
          "execution_count": 20
        }
      ]
    },
    {
      "cell_type": "code",
      "metadata": {
        "colab": {
          "base_uri": "https://localhost:8080/"
        },
        "id": "yl2rcMiQxHHH",
        "outputId": "7679cb3e-3b50-4e14-e87a-092131db3ea9"
      },
      "source": [
        "rf_pred = rf_regressor.predict(x_test)\n",
        "rf_pred"
      ],
      "execution_count": null,
      "outputs": [
        {
          "output_type": "execute_result",
          "data": {
            "text/plain": [
              "array([0.032789  , 0.01502662, 0.035807  , 0.036949  , 0.00121255,\n",
              "       0.039704  , 0.028885  , 0.044782  , 0.032849  , 0.0035376 ,\n",
              "       0.036307  , 0.00117452])"
            ]
          },
          "metadata": {},
          "execution_count": 21
        }
      ]
    },
    {
      "cell_type": "code",
      "metadata": {
        "colab": {
          "base_uri": "https://localhost:8080/"
        },
        "id": "2jRF609FxMO8",
        "outputId": "31d5c160-a68c-4870-8fc0-7519da2c5779"
      },
      "source": [
        "print(\"Regression :\",rf_regressor.score(x_test,y_test))"
      ],
      "execution_count": null,
      "outputs": [
        {
          "output_type": "stream",
          "name": "stdout",
          "text": [
            "Regression : 0.9725508073231794\n"
          ]
        }
      ]
    },
    {
      "cell_type": "code",
      "metadata": {
        "colab": {
          "base_uri": "https://localhost:8080/"
        },
        "id": "O38_YdANxMR0",
        "outputId": "c4ff5ebb-0e6c-4723-8272-f30440b5d406"
      },
      "source": [
        "mean_absolute_error(y_test,rf_pred)"
      ],
      "execution_count": null,
      "outputs": [
        {
          "output_type": "execute_result",
          "data": {
            "text/plain": [
              "0.0019276175141898168"
            ]
          },
          "metadata": {},
          "execution_count": 23
        }
      ]
    },
    {
      "cell_type": "code",
      "metadata": {
        "colab": {
          "base_uri": "https://localhost:8080/",
          "height": 313
        },
        "id": "7pjL405kxMUj",
        "outputId": "c103a08c-3990-4493-87c5-57bc2d96e74a"
      },
      "source": [
        "plt.plot(y_test,rf_pred,'o')\n",
        "m,b = np.polyfit(y_test,rf_pred,1)\n",
        "plt.plot(y_test,m*y_test + b)\n",
        "plt.xlabel(\"Predicted\")\n",
        "plt.ylabel(\"True\")\n",
        "plt.title(\"Random Forest Regressor\")"
      ],
      "execution_count": null,
      "outputs": [
        {
          "output_type": "execute_result",
          "data": {
            "text/plain": [
              "Text(0.5, 1.0, 'Random Forest Regressor')"
            ]
          },
          "metadata": {},
          "execution_count": 24
        },
        {
          "output_type": "display_data",
          "data": {
            "text/plain": [
              "<Figure size 432x288 with 1 Axes>"
            ],
            "image/png": "[encoded data removed]"
          },
          "metadata": {
            "needs_background": "light"
          }
        }
      ]
    },
    {
      "cell_type": "markdown",
      "metadata": {
        "id": "Hf7HsMwOxO3Y"
      },
      "source": [
        "## 3) Linear Regressor"
      ]
    },
    {
      "cell_type": "code",
      "metadata": {
        "colab": {
          "base_uri": "https://localhost:8080/"
        },
        "id": "_yj4wByLxQLs",
        "outputId": "c9ff0b55-e4b7-4b87-dae9-7f21780f74d1"
      },
      "source": [
        "from sklearn.linear_model import LinearRegression\n",
        "lin_regressor = LinearRegression()\n",
        "lin_regressor.fit(x_train,y_train)"
      ],
      "execution_count": null,
      "outputs": [
        {
          "output_type": "execute_result",
          "data": {
            "text/plain": [
              "LinearRegression()"
            ]
          },
          "metadata": {},
          "execution_count": 25
        }
      ]
    },
    {
      "cell_type": "code",
      "metadata": {
        "colab": {
          "base_uri": "https://localhost:8080/"
        },
        "id": "iVYkDKBMxRyM",
        "outputId": "4ddc0cfb-0952-4cd1-fad2-2128607a3f99"
      },
      "source": [
        "print(\"Regression coefficient:\",lin_regressor.score(x_test,y_test))\n",
        "linear_pred = lin_regressor.predict(x_test)"
      ],
      "execution_count": null,
      "outputs": [
        {
          "output_type": "stream",
          "name": "stdout",
          "text": [
            "Regression coefficient: 0.8808487073883556\n"
          ]
        }
      ]
    },
    {
      "cell_type": "code",
      "metadata": {
        "colab": {
          "base_uri": "https://localhost:8080/"
        },
        "id": "uXForxVWxR1E",
        "outputId": "7c93388b-a1ca-4353-9d2d-1a7d465ae853"
      },
      "source": [
        "mean_absolute_error(y_test,linear_pred)"
      ],
      "execution_count": null,
      "outputs": [
        {
          "output_type": "execute_result",
          "data": {
            "text/plain": [
              "0.004287003645629576"
            ]
          },
          "metadata": {},
          "execution_count": 27
        }
      ]
    },
    {
      "cell_type": "code",
      "metadata": {
        "colab": {
          "base_uri": "https://localhost:8080/",
          "height": 313
        },
        "id": "dXd8Gw29xR31",
        "outputId": "fbcdac09-df1f-40ac-e193-aa50dd0099f7"
      },
      "source": [
        "plt.plot(y_test,linear_pred,'o')\n",
        "m,b = np.polyfit(y_test,linear_pred,1)\n",
        "plt.plot(y_test,m*y_test+b)\n",
        "plt.xlabel(\"Predicted\")\n",
        "plt.ylabel(\"True\")\n",
        "plt.title(\"Linear Regression\")"
      ],
      "execution_count": null,
      "outputs": [
        {
          "output_type": "execute_result",
          "data": {
            "text/plain": [
              "Text(0.5, 1.0, 'Linear Regression')"
            ]
          },
          "metadata": {},
          "execution_count": 28
        },
        {
          "output_type": "display_data",
          "data": {
            "text/plain": [
              "<Figure size 432x288 with 1 Axes>"
            ],
            "image/png": "[encoded data removed]"
          },
          "metadata": {
            "needs_background": "light"
          }
        }
      ]
    },
    {
      "cell_type": "markdown",
      "source": [],
      "metadata": {
        "id": "1Q4FqV180Th6"
      }
    },
    {
      "cell_type": "markdown",
      "metadata": {
        "id": "ehjwUXs-zOsF"
      },
      "source": [
        "## 4) Lasso Regressor"
      ]
    },
    {
      "cell_type": "code",
      "metadata": {
        "colab": {
          "base_uri": "https://localhost:8080/"
        },
        "id": "V6aXCPs1zSa-",
        "outputId": "7f61e8a3-83a7-49be-a696-fd46f6a229d7"
      },
      "source": [
        "from sklearn.linear_model import LassoCV\n",
        "lasso_reg = LassoCV(alphas = None, cv = 5, max_iter = 1000, normalize = True)\n",
        "lasso_reg.fit(x_train, y_train)"
      ],
      "execution_count": null,
      "outputs": [
        {
          "output_type": "stream",
          "name": "stderr",
          "text": [
            "/usr/local/lib/python3.7/dist-packages/sklearn/linear_model/_base.py:145: FutureWarning: 'normalize' was deprecated in version 1.0 and will be removed in 1.2.\n",
            "If you wish to scale the data, use Pipeline with a StandardScaler in a preprocessing stage. To reproduce the previous behavior:\n",
            "\n",
            "from sklearn.pipeline import make_pipeline\n",
            "\n",
            "model = make_pipeline(StandardScaler(with_mean=False), Lasso())\n",
            "\n",
            "If you wish to pass a sample_weight parameter, you need to pass it as a fit parameter to each step of the pipeline as follows:\n",
            "\n",
            "kwargs = {s[0] + '__sample_weight': sample_weight for s in model.steps}\n",
            "model.fit(X, y, **kwargs)\n",
            "\n",
            "Set parameter alpha to: original_alpha * np.sqrt(n_samples). \n",
            "  FutureWarning,\n"
          ]
        },
        {
          "output_type": "execute_result",
          "data": {
            "text/plain": [
              "LassoCV(cv=5, normalize=True)"
            ]
          },
          "metadata": {},
          "execution_count": 29
        }
      ]
    },
    {
      "cell_type": "code",
      "metadata": {
        "colab": {
          "base_uri": "https://localhost:8080/"
        },
        "id": "PUXAYB70zq5B",
        "outputId": "e433c1bd-9485-4c54-92fe-73ada663a770"
      },
      "source": [
        "print(\"Regression coefficient:\",lasso_reg.score(x_test,y_test))\n",
        "lasso_pred = lasso_reg.predict(x_test)"
      ],
      "execution_count": null,
      "outputs": [
        {
          "output_type": "stream",
          "name": "stdout",
          "text": [
            "Regression coefficient: 0.8534864559601932\n"
          ]
        }
      ]
    },
    {
      "cell_type": "code",
      "metadata": {
        "colab": {
          "base_uri": "https://localhost:8080/"
        },
        "id": "l9etyF0p0Ag7",
        "outputId": "31c62ae4-54c3-4278-d63a-590b4acc2f22"
      },
      "source": [
        "mean_absolute_error(y_test,lasso_pred)"
      ],
      "execution_count": null,
      "outputs": [
        {
          "output_type": "execute_result",
          "data": {
            "text/plain": [
              "0.0052128281555949675"
            ]
          },
          "metadata": {},
          "execution_count": 31
        }
      ]
    },
    {
      "cell_type": "code",
      "metadata": {
        "colab": {
          "base_uri": "https://localhost:8080/",
          "height": 313
        },
        "id": "vS25ePz2zmfQ",
        "outputId": "b423ce40-90bd-4e57-e5fc-5f0ab0b9d0aa"
      },
      "source": [
        "plt.plot(y_test,linear_pred,'o')\n",
        "m,b = np.polyfit(y_test,linear_pred,1)\n",
        "plt.plot(y_test,m*y_test+b)\n",
        "plt.xlabel(\"Predicted\")\n",
        "plt.ylabel(\"True\")\n",
        "plt.title(\"Lasso Regression\")"
      ],
      "execution_count": null,
      "outputs": [
        {
          "output_type": "execute_result",
          "data": {
            "text/plain": [
              "Text(0.5, 1.0, 'Lasso Regression')"
            ]
          },
          "metadata": {},
          "execution_count": 32
        },
        {
          "output_type": "display_data",
          "data": {
            "text/plain": [
              "<Figure size 432x288 with 1 Axes>"
            ],
            "image/png": "[encoded data removed]"
          },
          "metadata": {
            "needs_background": "light"
          }
        }
      ]
    },
    {
      "cell_type": "markdown",
      "metadata": {
        "id": "VA1q3Xpm0tjh"
      },
      "source": [
        "## 5) Ridge Regression"
      ]
    },
    {
      "cell_type": "code",
      "metadata": {
        "colab": {
          "base_uri": "https://localhost:8080/"
        },
        "id": "JXhwFwLQ1O6A",
        "outputId": "eac89fbf-fd89-4434-afbd-76d4d432c1fc"
      },
      "source": [
        "from sklearn.linear_model import RidgeCV\n",
        "alphas = 10**np.linspace(-20,20,10000)*0.5\n",
        "ridgecv = RidgeCV(alphas = alphas, scoring = 'neg_mean_squared_error', normalize = True) #Cross Validation to find best Fit alpha\n",
        "ridgecv.fit(x_train, y_train)\n",
        "ridgecv.alpha_"
      ],
      "execution_count": null,
      "outputs": [
        {
          "output_type": "stream",
          "name": "stderr",
          "text": [
            "/usr/local/lib/python3.7/dist-packages/sklearn/linear_model/_base.py:145: FutureWarning: 'normalize' was deprecated in version 1.0 and will be removed in 1.2.\n",
            "If you wish to scale the data, use Pipeline with a StandardScaler in a preprocessing stage. To reproduce the previous behavior:\n",
            "\n",
            "from sklearn.pipeline import make_pipeline\n",
            "\n",
            "model = make_pipeline(StandardScaler(with_mean=False), _RidgeGCV())\n",
            "\n",
            "If you wish to pass a sample_weight parameter, you need to pass it as a fit parameter to each step of the pipeline as follows:\n",
            "\n",
            "kwargs = {s[0] + '__sample_weight': sample_weight for s in model.steps}\n",
            "model.fit(X, y, **kwargs)\n",
            "\n",
            "\n",
            "  FutureWarning,\n"
          ]
        },
        {
          "output_type": "execute_result",
          "data": {
            "text/plain": [
              "0.01029915009684966"
            ]
          },
          "metadata": {},
          "execution_count": 33
        }
      ]
    },
    {
      "cell_type": "code",
      "metadata": {
        "colab": {
          "base_uri": "https://localhost:8080/"
        },
        "id": "riJe6AJJ126t",
        "outputId": "74bfd321-ea0c-4ae4-adf1-a18d87ac3077"
      },
      "source": [
        "print(\"Regression coefficient:\",ridgecv.score(x_test,y_test))\n",
        "ridge_pred = ridgecv.predict(x_test)"
      ],
      "execution_count": null,
      "outputs": [
        {
          "output_type": "stream",
          "name": "stdout",
          "text": [
            "Regression coefficient: 0.8694127317532794\n"
          ]
        }
      ]
    },
    {
      "cell_type": "code",
      "metadata": {
        "colab": {
          "base_uri": "https://localhost:8080/"
        },
        "id": "vJno5Rnb13Ki",
        "outputId": "00d21f60-d01f-48e3-88e0-d3487ba3a2be"
      },
      "source": [
        "mean_absolute_error(y_test,ridge_pred)"
      ],
      "execution_count": null,
      "outputs": [
        {
          "output_type": "execute_result",
          "data": {
            "text/plain": [
              "0.004629343602480563"
            ]
          },
          "metadata": {},
          "execution_count": 35
        }
      ]
    },
    {
      "cell_type": "code",
      "metadata": {
        "colab": {
          "base_uri": "https://localhost:8080/",
          "height": 313
        },
        "id": "iq7-3-1W2aKa",
        "outputId": "337d8611-2702-4bce-ff34-6f03060d40b3"
      },
      "source": [
        "plt.plot(y_test,ridge_pred,'o')\n",
        "m,b = np.polyfit(y_test,ridge_pred,1)\n",
        "plt.plot(y_test,m*y_test+b)\n",
        "plt.xlabel(\"Predicted\")\n",
        "plt.ylabel(\"True\")\n",
        "plt.title(\"Ridge Regression\")"
      ],
      "execution_count": null,
      "outputs": [
        {
          "output_type": "execute_result",
          "data": {
            "text/plain": [
              "Text(0.5, 1.0, 'Ridge Regression')"
            ]
          },
          "metadata": {},
          "execution_count": 36
        },
        {
          "output_type": "display_data",
          "data": {
            "text/plain": [
              "<Figure size 432x288 with 1 Axes>"
            ],
            "image/png": "[encoded data removed]"
          },
          "metadata": {
            "needs_background": "light"
          }
        }
      ]
    },
    {
      "cell_type": "markdown",
      "metadata": {
        "id": "mTmY8WQx1PbN"
      },
      "source": [
        "## 6) Elastic Net"
      ]
    },
    {
      "cell_type": "code",
      "metadata": {
        "colab": {
          "base_uri": "https://localhost:8080/"
        },
        "id": "Ah_f2Pvv0qfJ",
        "outputId": "38ee5418-928e-4e3b-ea83-faee892bcf0d"
      },
      "source": [
        "from sklearn.linear_model import ElasticNetCV\n",
        "en_reg = ElasticNetCV(alphas = None, cv = 10, max_iter = 1000, normalize = True)\n",
        "en_reg.fit(x_train, y_train)"
      ],
      "execution_count": null,
      "outputs": [
        {
          "output_type": "stream",
          "name": "stderr",
          "text": [
            "/usr/local/lib/python3.7/dist-packages/sklearn/linear_model/_base.py:145: FutureWarning: 'normalize' was deprecated in version 1.0 and will be removed in 1.2.\n",
            "If you wish to scale the data, use Pipeline with a StandardScaler in a preprocessing stage. To reproduce the previous behavior:\n",
            "\n",
            "from sklearn.pipeline import make_pipeline\n",
            "\n",
            "model = make_pipeline(StandardScaler(with_mean=False), ElasticNet())\n",
            "\n",
            "If you wish to pass a sample_weight parameter, you need to pass it as a fit parameter to each step of the pipeline as follows:\n",
            "\n",
            "kwargs = {s[0] + '__sample_weight': sample_weight for s in model.steps}\n",
            "model.fit(X, y, **kwargs)\n",
            "\n",
            "Set parameter alpha to original_alpha * np.sqrt(n_samples) if l1_ratio is 1, and to original_alpha * n_samples if l1_ratio is 0. For other values of l1_ratio, no analytic formula is available.\n",
            "  FutureWarning,\n"
          ]
        },
        {
          "output_type": "execute_result",
          "data": {
            "text/plain": [
              "ElasticNetCV(cv=10, normalize=True)"
            ]
          },
          "metadata": {},
          "execution_count": 37
        }
      ]
    },
    {
      "cell_type": "code",
      "metadata": {
        "colab": {
          "base_uri": "https://localhost:8080/"
        },
        "id": "W0NDAtpU3WbC",
        "outputId": "bec98a47-9443-4659-a26c-c28f4e53a8cd"
      },
      "source": [
        "print(\"Regression coefficient:\",en_reg.score(x_test,y_test))\n",
        "en_reg_pred = en_reg.predict(x_test)"
      ],
      "execution_count": null,
      "outputs": [
        {
          "output_type": "stream",
          "name": "stdout",
          "text": [
            "Regression coefficient: 0.8687414116825939\n"
          ]
        }
      ]
    },
    {
      "cell_type": "code",
      "metadata": {
        "colab": {
          "base_uri": "https://localhost:8080/"
        },
        "id": "_LO-AzxF3Wdq",
        "outputId": "ed1482c5-70e5-4a30-a0d5-314ae46787b4"
      },
      "source": [
        "mean_absolute_error(y_test,en_reg_pred)"
      ],
      "execution_count": null,
      "outputs": [
        {
          "output_type": "execute_result",
          "data": {
            "text/plain": [
              "0.004634198041564293"
            ]
          },
          "metadata": {},
          "execution_count": 39
        }
      ]
    },
    {
      "cell_type": "code",
      "metadata": {
        "colab": {
          "base_uri": "https://localhost:8080/",
          "height": 313
        },
        "id": "QEYCGcgv3WgE",
        "outputId": "808f500e-0429-4a53-b012-c39266981ef3"
      },
      "source": [
        "plt.plot(y_test,en_reg_pred,'o')\n",
        "m,b = np.polyfit(y_test,en_reg_pred,1)\n",
        "plt.plot(y_test,m*y_test+b)\n",
        "plt.xlabel(\"Predicted\")\n",
        "plt.ylabel(\"True\")\n",
        "plt.title(\"Elastic Net Regression\")"
      ],
      "execution_count": null,
      "outputs": [
        {
          "output_type": "execute_result",
          "data": {
            "text/plain": [
              "Text(0.5, 1.0, 'Elastic Net Regression')"
            ]
          },
          "metadata": {},
          "execution_count": 40
        },
        {
          "output_type": "display_data",
          "data": {
            "text/plain": [
              "<Figure size 432x288 with 1 Axes>"
            ],
            "image/png": "[encoded data removed]"
          },
          "metadata": {
            "needs_background": "light"
          }
        }
      ]
    },
    {
      "cell_type": "code",
      "source": [
        "import sklearn"
      ],
      "metadata": {
        "id": "GiHS0CYDzcio"
      },
      "execution_count": null,
      "outputs": []
    },
    {
      "cell_type": "code",
      "source": [
        "print(\"MSE for Random Forest     = \",sklearn.metrics.mean_squared_error(y_test, rf_pred, squared=False))\n",
        "print(\"MSE for Linear Regression = \",sklearn.metrics.mean_squared_error(y_test, linear_pred, squared=False))\n",
        "print(\"MSE for LASSO Regression  = \",sklearn.metrics.mean_squared_error(y_test, lasso_pred, squared=False))\n",
        "print(\"MSE for ElasticNet        = \",sklearn.metrics.mean_squared_error(y_test, en_reg_pred, squared=False))\n",
        "print(\"MSE for Ridge Regression  = \",sklearn.metrics.mean_squared_error(y_test, ridge_pred, squared=False))\n",
        "print(\"MSE for Support Vector R  = \",sklearn.metrics.mean_squared_error(y_test, svr_pred, squared=False))"
      ],
      "metadata": {
        "colab": {
          "base_uri": "https://localhost:8080/"
        },
        "id": "Pbp91YTXb3GQ",
        "outputId": "95c1030c-af14-4f98-ec79-dff65526e44e"
      },
      "execution_count": null,
      "outputs": [
        {
          "output_type": "stream",
          "name": "stdout",
          "text": [
            "MSE for Random Forest     =  0.002522923880835196\n",
            "MSE for Linear Regression =  0.0052564040208381395\n",
            "MSE for LASSO Regression  =  0.005828787823026436\n",
            "MSE for ElasticNet        =  0.005517003053419585\n",
            "MSE for Ridge Regression  =  0.005502876653488036\n",
            "MSE for Support Vector R  =  0.015864963954581587\n"
          ]
        }
      ]
    },
    {
      "cell_type": "markdown",
      "source": [
        "## Testing with new Data points "
      ],
      "metadata": {
        "id": "YII0H9XWb90p"
      }
    },
    {
      "cell_type": "code",
      "source": [
        "rf_pred = rf_regressor.predict(x_test)\n",
        "rf_pred"
      ],
      "metadata": {
        "id": "jc3wCGeMcDmd",
        "outputId": "cb25b832-0055-4e31-93f4-218fb7d9b7a6",
        "colab": {
          "base_uri": "https://localhost:8080/"
        }
      },
      "execution_count": null,
      "outputs": [
        {
          "output_type": "execute_result",
          "data": {
            "text/plain": [
              "array([0.032789  , 0.01502662, 0.035807  , 0.036949  , 0.00121255,\n",
              "       0.039704  , 0.028885  , 0.044782  , 0.032849  , 0.0035376 ,\n",
              "       0.036307  , 0.00117452])"
            ]
          },
          "metadata": {},
          "execution_count": 43
        }
      ]
    },
    {
      "cell_type": "code",
      "source": [
        "y_test"
      ],
      "metadata": {
        "colab": {
          "base_uri": "https://localhost:8080/"
        },
        "id": "nEeogTcssaGa",
        "outputId": "a042f080-633e-49f7-9bfe-933128124214"
      },
      "execution_count": null,
      "outputs": [
        {
          "output_type": "execute_result",
          "data": {
            "text/plain": [
              "array([0.0324    , 0.01562244, 0.0401    , 0.0398    , 0.00089841,\n",
              "       0.0406    , 0.028     , 0.0406    , 0.0284    , 0.00404276,\n",
              "       0.0332    , 0.00051022])"
            ]
          },
          "metadata": {},
          "execution_count": 44
        }
      ]
    },
    {
      "cell_type": "code",
      "source": [
        "x_ax = range(len(y_test))\n",
        "plt.scatter(x_ax, y_test, s=5, color=\"blue\", label=\"original\")\n",
        "plt.plot(x_ax, rf_pred, lw=0.8, color=\"red\", label=\"predicted\")\n",
        "plt.title(\"Random Forest Regressor Predictions\")\n",
        "plt.legend()\n",
        "plt.show()"
      ],
      "metadata": {
        "id": "CVE22TYqcEk3",
        "outputId": "5e6afbc4-f6fe-46d1-92a3-08580d4d1f80",
        "colab": {
          "base_uri": "https://localhost:8080/",
          "height": 281
        }
      },
      "execution_count": null,
      "outputs": [
        {
          "output_type": "display_data",
          "data": {
            "text/plain": [
              "<Figure size 432x288 with 1 Axes>"
            ],
            "image/png": "[encoded data removed]"
          },
          "metadata": {
            "needs_background": "light"
          }
        }
      ]
    },
    {
      "cell_type": "code",
      "source": [
        "x_ax = range(len(y_test))\n",
        "plt.scatter(x_ax, y_test, s=5, color=\"blue\", label=\"original\")\n",
        "plt.plot(x_ax, linear_pred, lw=0.8, color=\"red\", label=\"predicted\")\n",
        "plt.title(\"Linear Regressor Predictions\")\n",
        "plt.legend()\n",
        "plt.show()"
      ],
      "metadata": {
        "colab": {
          "base_uri": "https://localhost:8080/",
          "height": 281
        },
        "id": "W8PP0Xu2eaqf",
        "outputId": "4e00ee18-fe51-4447-94e8-f68fd12134c4"
      },
      "execution_count": null,
      "outputs": [
        {
          "output_type": "display_data",
          "data": {
            "text/plain": [
              "<Figure size 432x288 with 1 Axes>"
            ],
            "image/png": "[encoded data removed]"
          },
          "metadata": {
            "needs_background": "light"
          }
        }
      ]
    },
    {
      "cell_type": "code",
      "source": [
        "x_ax = range(len(y_test))\n",
        "plt.scatter(x_ax, y_test, s=5, color=\"blue\", label=\"original\")\n",
        "plt.plot(x_ax, ridge_pred, lw=0.8, color=\"red\", label=\"predicted\")\n",
        "plt.title(\"Ridge Regressor Predictions\")\n",
        "plt.legend()\n",
        "plt.show()"
      ],
      "metadata": {
        "colab": {
          "base_uri": "https://localhost:8080/",
          "height": 281
        },
        "id": "iImFEpH-eavr",
        "outputId": "99a69e31-dcab-4d5f-fa3f-8cb5df945fdb"
      },
      "execution_count": null,
      "outputs": [
        {
          "output_type": "display_data",
          "data": {
            "text/plain": [
              "<Figure size 432x288 with 1 Axes>"
            ],
            "image/png": "[encoded data removed]"
          },
          "metadata": {
            "needs_background": "light"
          }
        }
      ]
    },
    {
      "cell_type": "code",
      "source": [
        "x_ax = range(len(y_test))\n",
        "plt.scatter(x_ax, y_test, s=5, color=\"blue\", label=\"original\")\n",
        "plt.plot(x_ax, svr_pred, lw=0.8, color=\"red\", label=\"predicted\")\n",
        "plt.title(\"SVR Predictions\")\n",
        "plt.legend()\n",
        "plt.show()"
      ],
      "metadata": {
        "colab": {
          "base_uri": "https://localhost:8080/",
          "height": 281
        },
        "id": "7pCSzqtztMYn",
        "outputId": "d6e2e3ff-636a-4919-d9a5-5959e94ec98a"
      },
      "execution_count": null,
      "outputs": [
        {
          "output_type": "display_data",
          "data": {
            "text/plain": [
              "<Figure size 432x288 with 1 Axes>"
            ],
            "image/png": "[encoded data removed]"
          },
          "metadata": {
            "needs_background": "light"
          }
        }
      ]
    },
    {
      "cell_type": "code",
      "source": [
        "x_ax = range(len(y_test))\n",
        "plt.scatter(x_ax, y_test, s=5, color=\"blue\", label=\"original\")\n",
        "plt.plot(x_ax, lasso_pred, lw=0.8, color=\"red\", label=\"predicted\")\n",
        "plt.title(\"LASSO Regressor Predictions\")\n",
        "plt.legend()\n",
        "plt.show()"
      ],
      "metadata": {
        "colab": {
          "base_uri": "https://localhost:8080/",
          "height": 281
        },
        "id": "ku07nC8MuoTE",
        "outputId": "ce0e9418-2d94-43e2-9eb1-3181d448ee79"
      },
      "execution_count": null,
      "outputs": [
        {
          "output_type": "display_data",
          "data": {
            "text/plain": [
              "<Figure size 432x288 with 1 Axes>"
            ],
            "image/png": "[encoded data removed]"
          },
          "metadata": {
            "needs_background": "light"
          }
        }
      ]
    },
    {
      "cell_type": "code",
      "source": [
        "x_ax = range(len(y_test))\n",
        "plt.scatter(x_ax, y_test, s=5, color=\"blue\", label=\"original\")\n",
        "plt.plot(x_ax, en_reg_pred, lw=0.8, color=\"red\", label=\"predicted\")\n",
        "plt.title(\"ElasticNet Regressor Predictions\")\n",
        "plt.legend()\n",
        "plt.show()"
      ],
      "metadata": {
        "colab": {
          "base_uri": "https://localhost:8080/",
          "height": 281
        },
        "id": "SolU7ESKu1Q2",
        "outputId": "6ebba70b-02bb-4360-fb2f-4162ab9b6443"
      },
      "execution_count": null,
      "outputs": [
        {
          "output_type": "display_data",
          "data": {
            "text/plain": [
              "<Figure size 432x288 with 1 Axes>"
            ],
            "image/png": "[encoded data removed]"
          },
          "metadata": {
            "needs_background": "light"
          }
        }
      ]
    },
    {
      "cell_type": "code",
      "source": [
        "predictions_header = [\"Actual Values\",\"Random Forest\",\"Linear Regression\",\"Ridge Regression\",\"LASSO Regression\",\"ElasticNet Regression\",\"SVR\"]\n",
        "predictions_list = []\n",
        "predictions_list.append(y_test)\n",
        "predictions_list.append(rf_pred)\n",
        "predictions_list.append(linear_pred)\n",
        "predictions_list.append(ridge_pred)\n",
        "predictions_list.append(lasso_pred)\n",
        "predictions_list.append(en_reg_pred)\n",
        "predictions_list.append(svr_pred)"
      ],
      "metadata": {
        "id": "lvgEWdohs3HY"
      },
      "execution_count": null,
      "outputs": []
    },
    {
      "cell_type": "code",
      "source": [
        "prediction_df = pd.DataFrame(predictions_list,index = predictions_header)"
      ],
      "metadata": {
        "id": "p_1cc_k6t1le"
      },
      "execution_count": null,
      "outputs": []
    },
    {
      "cell_type": "code",
      "source": [
        "prediction_df"
      ],
      "metadata": {
        "colab": {
          "base_uri": "https://localhost:8080/",
          "height": 269
        },
        "id": "W4U0SPiwuBNx",
        "outputId": "866e6e15-63ae-48c5-f99f-6ae89ed04254"
      },
      "execution_count": null,
      "outputs": [
        {
          "output_type": "execute_result",
          "data": {
            "text/plain": [
              "                             0         1         2         3         4   \\\n",
              "Actual Values          0.032400  0.015622  0.040100  0.039800  0.000898   \n",
              "Random Forest          0.032789  0.015027  0.035807  0.036949  0.001213   \n",
              "Linear Regression      0.033727  0.026873  0.036662  0.038160 -0.007416   \n",
              "Ridge Regression       0.033889  0.026222  0.036874  0.038563 -0.006993   \n",
              "LASSO Regression       0.034832  0.026388  0.032695  0.036707 -0.003784   \n",
              "ElasticNet Regression  0.033995  0.026260  0.036816  0.038689 -0.007060   \n",
              "SVR                    0.029799  0.029799  0.029799  0.029799  0.029799   \n",
              "\n",
              "                             5         6         7         8         9   \\\n",
              "Actual Values          0.040600  0.028000  0.040600  0.028400  0.004043   \n",
              "Random Forest          0.039704  0.028885  0.044782  0.032849  0.003538   \n",
              "Linear Regression      0.038469  0.027488  0.036922  0.034907 -0.002088   \n",
              "Ridge Regression       0.036991  0.029002  0.037288  0.037060 -0.002166   \n",
              "LASSO Regression       0.036425  0.030624  0.034685  0.037855  0.000948   \n",
              "ElasticNet Regression  0.037382  0.029096  0.037050  0.037147 -0.002145   \n",
              "SVR                    0.029799  0.029799  0.029799  0.029799  0.029799   \n",
              "\n",
              "                             10        11  \n",
              "Actual Values          0.033200  0.000510  \n",
              "Random Forest          0.036307  0.001175  \n",
              "Linear Regression      0.036687  0.003539  \n",
              "Ridge Regression       0.038213  0.003814  \n",
              "LASSO Regression       0.036768  0.005855  \n",
              "ElasticNet Regression  0.038154  0.003784  \n",
              "SVR                    0.029799  0.029799  "
            ],
            "text/html": [
              "\n",
              "  <div id=\"df-1cefa191-9bb7-4ba9-81b4-56e250ffbc1a\">\n",
              "    <div class=\"colab-df-container\">\n",
              "      <div>\n",
              "<style scoped>\n",
              "    .dataframe tbody tr th:only-of-type {\n",
              "        vertical-align: middle;\n",
              "    }\n",
              "\n",
              "    .dataframe tbody tr th {\n",
              "        vertical-align: top;\n",
              "    }\n",
              "\n",
              "    .dataframe thead th {\n",
              "        text-align: right;\n",
              "    }\n",
              "</style>\n",
              "<table border=\"1\" class=\"dataframe\">\n",
              "  <thead>\n",
              "    <tr style=\"text-align: right;\">\n",
              "      <th></th>\n",
              "      <th>0</th>\n",
              "      <th>1</th>\n",
              "      <th>2</th>\n",
              "      <th>3</th>\n",
              "      <th>4</th>\n",
              "      <th>5</th>\n",
              "      <th>6</th>\n",
              "      <th>7</th>\n",
              "      <th>8</th>\n",
              "      <th>9</th>\n",
              "      <th>10</th>\n",
              "      <th>11</th>\n",
              "    </tr>\n",
              "  </thead>\n",
              "  <tbody>\n",
              "    <tr>\n",
              "      <th>Actual Values</th>\n",
              "      <td>0.032400</td>\n",
              "      <td>0.015622</td>\n",
              "      <td>0.040100</td>\n",
              "      <td>0.039800</td>\n",
              "      <td>0.000898</td>\n",
              "      <td>0.040600</td>\n",
              "      <td>0.028000</td>\n",
              "      <td>0.040600</td>\n",
              "      <td>0.028400</td>\n",
              "      <td>0.004043</td>\n",
              "      <td>0.033200</td>\n",
              "      <td>0.000510</td>\n",
              "    </tr>\n",
              "    <tr>\n",
              "      <th>Random Forest</th>\n",
              "      <td>0.032789</td>\n",
              "      <td>0.015027</td>\n",
              "      <td>0.035807</td>\n",
              "      <td>0.036949</td>\n",
              "      <td>0.001213</td>\n",
              "      <td>0.039704</td>\n",
              "      <td>0.028885</td>\n",
              "      <td>0.044782</td>\n",
              "      <td>0.032849</td>\n",
              "      <td>0.003538</td>\n",
              "      <td>0.036307</td>\n",
              "      <td>0.001175</td>\n",
              "    </tr>\n",
              "    <tr>\n",
              "      <th>Linear Regression</th>\n",
              "      <td>0.033727</td>\n",
              "      <td>0.026873</td>\n",
              "      <td>0.036662</td>\n",
              "      <td>0.038160</td>\n",
              "      <td>-0.007416</td>\n",
              "      <td>0.038469</td>\n",
              "      <td>0.027488</td>\n",
              "      <td>0.036922</td>\n",
              "      <td>0.034907</td>\n",
              "      <td>-0.002088</td>\n",
              "      <td>0.036687</td>\n",
              "      <td>0.003539</td>\n",
              "    </tr>\n",
              "    <tr>\n",
              "      <th>Ridge Regression</th>\n",
              "      <td>0.033889</td>\n",
              "      <td>0.026222</td>\n",
              "      <td>0.036874</td>\n",
              "      <td>0.038563</td>\n",
              "      <td>-0.006993</td>\n",
              "      <td>0.036991</td>\n",
              "      <td>0.029002</td>\n",
              "      <td>0.037288</td>\n",
              "      <td>0.037060</td>\n",
              "      <td>-0.002166</td>\n",
              "      <td>0.038213</td>\n",
              "      <td>0.003814</td>\n",
              "    </tr>\n",
              "    <tr>\n",
              "      <th>LASSO Regression</th>\n",
              "      <td>0.034832</td>\n",
              "      <td>0.026388</td>\n",
              "      <td>0.032695</td>\n",
              "      <td>0.036707</td>\n",
              "      <td>-0.003784</td>\n",
              "      <td>0.036425</td>\n",
              "      <td>0.030624</td>\n",
              "      <td>0.034685</td>\n",
              "      <td>0.037855</td>\n",
              "      <td>0.000948</td>\n",
              "      <td>0.036768</td>\n",
              "      <td>0.005855</td>\n",
              "    </tr>\n",
              "    <tr>\n",
              "      <th>ElasticNet Regression</th>\n",
              "      <td>0.033995</td>\n",
              "      <td>0.026260</td>\n",
              "      <td>0.036816</td>\n",
              "      <td>0.038689</td>\n",
              "      <td>-0.007060</td>\n",
              "      <td>0.037382</td>\n",
              "      <td>0.029096</td>\n",
              "      <td>0.037050</td>\n",
              "      <td>0.037147</td>\n",
              "      <td>-0.002145</td>\n",
              "      <td>0.038154</td>\n",
              "      <td>0.003784</td>\n",
              "    </tr>\n",
              "    <tr>\n",
              "      <th>SVR</th>\n",
              "      <td>0.029799</td>\n",
              "      <td>0.029799</td>\n",
              "      <td>0.029799</td>\n",
              "      <td>0.029799</td>\n",
              "      <td>0.029799</td>\n",
              "      <td>0.029799</td>\n",
              "      <td>0.029799</td>\n",
              "      <td>0.029799</td>\n",
              "      <td>0.029799</td>\n",
              "      <td>0.029799</td>\n",
              "      <td>0.029799</td>\n",
              "      <td>0.029799</td>\n",
              "    </tr>\n",
              "  </tbody>\n",
              "</table>\n",
              "</div>\n",
              "      <button class=\"colab-df-convert\" onclick=\"convertToInteractive('df-1cefa191-9bb7-4ba9-81b4-56e250ffbc1a')\"\n",
              "              title=\"Convert this dataframe to an interactive table.\"\n",
              "              style=\"display:none;\">\n",
              "        \n",
              "  <svg xmlns=\"http://www.w3.org/2000/svg\" height=\"24px\"viewBox=\"0 0 24 24\"\n",
              "       width=\"24px\">\n",
              "    <path d=\"M0 0h24v24H0V0z\" fill=\"none\"/>\n",
              "    <path d=\"M18.56 5.44l.94 2.06.94-2.06 2.06-.94-2.06-.94-.94-2.06-.94 2.06-2.06.94zm-11 1L8.5 8.5l.94-2.06 2.06-.94-2.06-.94L8.5 2.5l-.94 2.06-2.06.94zm10 10l.94 2.06.94-2.06 2.06-.94-2.06-.94-.94-2.06-.94 2.06-2.06.94z\"/><path d=\"M17.41 7.96l-1.37-1.37c-.4-.4-.92-.59-1.43-.59-.52 0-1.04.2-1.43.59L10.3 9.45l-7.72 7.72c-.78.78-.78 2.05 0 2.83L4 21.41c.39.39.9.59 1.41.59.51 0 1.02-.2 1.41-.59l7.78-7.78 2.81-2.81c.8-.78.8-2.07 0-2.86zM5.41 20L4 18.59l7.72-7.72 1.47 1.35L5.41 20z\"/>\n",
              "  </svg>\n",
              "      </button>\n",
              "      \n",
              "  <style>\n",
              "    .colab-df-container {\n",
              "      display:flex;\n",
              "      flex-wrap:wrap;\n",
              "      gap: 12px;\n",
              "    }\n",
              "\n",
              "    .colab-df-convert {\n",
              "      background-color: #E8F0FE;\n",
              "      border: none;\n",
              "      border-radius: 50%;\n",
              "      cursor: pointer;\n",
              "      display: none;\n",
              "      fill: #1967D2;\n",
              "      height: 32px;\n",
              "      padding: 0 0 0 0;\n",
              "      width: 32px;\n",
              "    }\n",
              "\n",
              "    .colab-df-convert:hover {\n",
              "      background-color: #E2EBFA;\n",
              "      box-shadow: 0px 1px 2px rgba(60, 64, 67, 0.3), 0px 1px 3px 1px rgba(60, 64, 67, 0.15);\n",
              "      fill: #174EA6;\n",
              "    }\n",
              "\n",
              "    [theme=dark] .colab-df-convert {\n",
              "      background-color: #3B4455;\n",
              "      fill: #D2E3FC;\n",
              "    }\n",
              "\n",
              "    [theme=dark] .colab-df-convert:hover {\n",
              "      background-color: #434B5C;\n",
              "      box-shadow: 0px 1px 3px 1px rgba(0, 0, 0, 0.15);\n",
              "      filter: drop-shadow(0px 1px 2px rgba(0, 0, 0, 0.3));\n",
              "      fill: #FFFFFF;\n",
              "    }\n",
              "  </style>\n",
              "\n",
              "      <script>\n",
              "        const buttonEl =\n",
              "          document.querySelector('#df-1cefa191-9bb7-4ba9-81b4-56e250ffbc1a button.colab-df-convert');\n",
              "        buttonEl.style.display =\n",
              "          google.colab.kernel.accessAllowed ? 'block' : 'none';\n",
              "\n",
              "        async function convertToInteractive(key) {\n",
              "          const element = document.querySelector('#df-1cefa191-9bb7-4ba9-81b4-56e250ffbc1a');\n",
              "          const dataTable =\n",
              "            await google.colab.kernel.invokeFunction('convertToInteractive',\n",
              "                                                     [key], {});\n",
              "          if (!dataTable) return;\n",
              "\n",
              "          const docLinkHtml = 'Like what you see? Visit the ' +\n",
              "            '<a target=\"_blank\" href=https://colab.research.google.com/notebooks/data_table.ipynb>data table notebook</a>'\n",
              "            + ' to learn more about interactive tables.';\n",
              "          element.innerHTML = '';\n",
              "          dataTable['output_type'] = 'display_data';\n",
              "          await google.colab.output.renderOutput(dataTable, element);\n",
              "          const docLink = document.createElement('div');\n",
              "          docLink.innerHTML = docLinkHtml;\n",
              "          element.appendChild(docLink);\n",
              "        }\n",
              "      </script>\n",
              "    </div>\n",
              "  </div>\n",
              "  "
            ]
          },
          "metadata": {},
          "execution_count": 53
        }
      ]
    }
  ]
}